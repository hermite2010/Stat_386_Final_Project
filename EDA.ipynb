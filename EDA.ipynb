{
 "cells": [
  {
   "cell_type": "code",
   "execution_count": 33,
   "metadata": {},
   "outputs": [],
   "source": [
    "import seaborn as sns\n",
    "import matplotlib.pyplot as plt\n",
    "import pandas as pd\n",
    "import numpy as np"
   ]
  },
  {
   "cell_type": "code",
   "execution_count": 71,
   "metadata": {},
   "outputs": [],
   "source": [
    "# Read in the data\n",
    "SA_DV = pd.read_csv (r'Big12_Sex_Dating_Offenses.csv')\n",
    "# Rename the columns to years\n",
    "SA_DV.rename(columns={'2020 Total':'2020', '2021 Total':'2021','2022 Total':'2022'}, inplace=True)\n",
    "# Melt the three year columns into one year column\n",
    "SA_DV_melt = SA_DV.melt(id_vars=['School','Offense'], var_name='Year', value_name='Count').drop_duplicates()\n",
    "# Pivot the Offenses to Columns\n",
    "SA_DV_pivot = SA_DV_melt.pivot(index = ['School','Year'], columns=('Offense'), values='Count').reset_index()\n",
    "\n",
    "# Save the data to a csv\n",
    "# SA_DV_pivot.to_csv('SexOffensePlotData.csv', index=False)"
   ]
  },
  {
   "cell_type": "code",
   "execution_count": 68,
   "metadata": {},
   "outputs": [
    {
     "name": "stdout",
     "output_type": "stream",
     "text": [
      "              Offense School  2020  2021  2022\n",
      "0                Rape    BYU     4     7     6\n",
      "1            Fondling    BYU    10    13    17\n",
      "2              Incest    BYU     0     0     0\n",
      "3      Statutory Rape    BYU     0     0     0\n",
      "4   Domestic Violence    BYU     0     2     1\n",
      "..                ...    ...   ...   ...   ...\n",
      "79             Incest     WV     0     0     0\n",
      "80     Statutory Rape     WV     0     0     0\n",
      "81  Domestic Violence     WV     6    18    21\n",
      "82    Dating Violence     WV     0     0     0\n",
      "83           Stalking     WV    14    14    22\n",
      "\n",
      "[84 rows x 5 columns]\n"
     ]
    }
   ],
   "source": [
    "print(SA_DV)"
   ]
  },
  {
   "cell_type": "code",
   "execution_count": 69,
   "metadata": {},
   "outputs": [
    {
     "name": "stdout",
     "output_type": "stream",
     "text": [
      "    School            Offense  Year  Count\n",
      "0      BYU               Rape  2020      4\n",
      "1      BYU           Fondling  2020     10\n",
      "2      BYU             Incest  2020      0\n",
      "3      BYU     Statutory Rape  2020      0\n",
      "4      BYU  Domestic Violence  2020      0\n",
      "..     ...                ...   ...    ...\n",
      "247     WV             Incest  2022      0\n",
      "248     WV     Statutory Rape  2022      0\n",
      "249     WV  Domestic Violence  2022     21\n",
      "250     WV    Dating Violence  2022      0\n",
      "251     WV           Stalking  2022     22\n",
      "\n",
      "[252 rows x 4 columns]\n"
     ]
    }
   ],
   "source": [
    "print(SA_DV_melt)"
   ]
  },
  {
   "cell_type": "code",
   "execution_count": 70,
   "metadata": {},
   "outputs": [
    {
     "name": "stdout",
     "output_type": "stream",
     "text": [
      "Offense School  Year  Dating Violence  Domestic Violence  Fondling  Incest  \\\n",
      "0           BU  2020                4                  7        13       0   \n",
      "1           BU  2021                5                  8        10       0   \n",
      "2           BU  2022                0                 13         8       0   \n",
      "3          BYU  2020                5                  0        10       0   \n",
      "4          BYU  2021                5                  2        13       0   \n",
      "5          BYU  2022               17                  1        17       0   \n",
      "6           CU  2020                8                  8         7       0   \n",
      "7           CU  2021               13                  8        20       0   \n",
      "8           CU  2022               13                 12        19       0   \n",
      "9         Iowa  2020                8                  5         4       0   \n",
      "10        Iowa  2021                5                  2         7       0   \n",
      "11        Iowa  2022                6                  6         6       0   \n",
      "12         KSU  2020                0                  5         1       0   \n",
      "13         KSU  2021               12                  3        18       0   \n",
      "14         KSU  2022                5                  7         6       0   \n",
      "15          KU  2020                0                  0         0       0   \n",
      "16          KU  2021                0                  0         0       0   \n",
      "17          KU  2022                0                  0         1       0   \n",
      "18         OSU  2020                4                  8         6       0   \n",
      "19         OSU  2021                2                  6         4       0   \n",
      "20         OSU  2022                7                  3         0       0   \n",
      "21         TCU  2020                7                  0         4       0   \n",
      "22         TCU  2021               17                 15         8       0   \n",
      "23         TCU  2022                5                  1         4       0   \n",
      "24         TTU  2020               19                  1         7       0   \n",
      "25         TTU  2021               22                 18        19       0   \n",
      "26         TTU  2022               14                 21         8       0   \n",
      "27         UCF  2020               15                  3         7       0   \n",
      "28         UCF  2021               14                  0         8       0   \n",
      "29         UCF  2022               13                  2         8       0   \n",
      "30          UH  2020               14                  8         4       0   \n",
      "31          UH  2021               14                 12         5       0   \n",
      "32          UH  2022               18                 10         1       0   \n",
      "33          WV  2020                0                  6         4       0   \n",
      "34          WV  2021                0                 18        12       0   \n",
      "35          WV  2022                0                 21        17       0   \n",
      "\n",
      "Offense  Rape  Stalking  Statutory Rape  \n",
      "0          13        17               0  \n",
      "1          20        23               0  \n",
      "2          22        40               0  \n",
      "3           4        14               0  \n",
      "4           7         6               0  \n",
      "5           6        16               0  \n",
      "6          20        23               0  \n",
      "7          34        15               0  \n",
      "8          52        16               0  \n",
      "9          10        22               0  \n",
      "10         22        32               0  \n",
      "11         18        21               0  \n",
      "12          5         6               0  \n",
      "13         14        18               0  \n",
      "14         26         8               0  \n",
      "15          0         0               0  \n",
      "16          0         0               0  \n",
      "17          0         1               0  \n",
      "18          4         9               0  \n",
      "19         15        12               0  \n",
      "20         12        16               0  \n",
      "21         17         4               0  \n",
      "22         22         4               0  \n",
      "23         12         5               0  \n",
      "24          7        21               0  \n",
      "25         26        65               0  \n",
      "26         23        44               0  \n",
      "27          8        25               0  \n",
      "28         16        24               0  \n",
      "29         14        34               1  \n",
      "30          5        34               1  \n",
      "31         12        29               0  \n",
      "32         13        18               0  \n",
      "33          9        14               0  \n",
      "34         17        14               0  \n",
      "35         21        22               0  \n"
     ]
    }
   ],
   "source": [
    "print(SA_DV_pivot)"
   ]
  }
 ],
 "metadata": {
  "kernelspec": {
   "display_name": "stat386",
   "language": "python",
   "name": "python3"
  },
  "language_info": {
   "codemirror_mode": {
    "name": "ipython",
    "version": 3
   },
   "file_extension": ".py",
   "mimetype": "text/x-python",
   "name": "python",
   "nbconvert_exporter": "python",
   "pygments_lexer": "ipython3",
   "version": "3.10.12"
  }
 },
 "nbformat": 4,
 "nbformat_minor": 2
}
