{
 "cells": [
  {
   "cell_type": "code",
   "execution_count": 1,
   "metadata": {},
   "outputs": [],
   "source": [
    "import seaborn as sns\n",
    "import matplotlib.pyplot as plt\n",
    "import pandas as pd\n",
    "import numpy as np"
   ]
  },
  {
   "cell_type": "code",
   "execution_count": 29,
   "metadata": {},
   "outputs": [],
   "source": [
    "# Read in the data\n",
    "SA_DV = pd.read_csv (r'Big12_Sex_Dating_Offenses.csv')\n",
    "# Rename the columns to years\n",
    "SA_DV.rename(columns={'2020 Total':'2020', '2021 Total':'2021','2022 Total':'2022'}, inplace=True)\n",
    "# Pivot the Offenses to Columns and the Year to Rows\n",
    "SA_DV = SA_DV.pivot(index = 'School', columns=('Offense'), )"
   ]
  },
  {
   "cell_type": "code",
   "execution_count": 30,
   "metadata": {},
   "outputs": [
    {
     "name": "stdout",
     "output_type": "stream",
     "text": [
      "                   2020                                                  \\\n",
      "Offense Dating Violence Domestic Violence Fondling Incest Rape Stalking   \n",
      "School                                                                    \n",
      "BU                    4                 7       13      0   13       17   \n",
      "BYU                   5                 0       10      0    4       14   \n",
      "CU                    8                 8        7      0   20       23   \n",
      "Iowa                  8                 5        4      0   10       22   \n",
      "KSU                   0                 5        1      0    5        6   \n",
      "KU                    0                 0        0      0    0        0   \n",
      "OSU                   4                 8        6      0    4        9   \n",
      "TCU                   7                 0        4      0   17        4   \n",
      "TTU                  19                 1        7      0    7       21   \n",
      "UCF                  15                 3        7      0    8       25   \n",
      "UH                   14                 8        4      0    5       34   \n",
      "WV                    0                 6        4      0    9       14   \n",
      "\n",
      "                                  2021                             ...       \\\n",
      "Offense Statutory Rape Dating Violence Domestic Violence Fondling  ... Rape   \n",
      "School                                                             ...        \n",
      "BU                   0               5                 8       10  ...   20   \n",
      "BYU                  0               5                 2       13  ...    7   \n",
      "CU                   0              13                 8       20  ...   34   \n",
      "Iowa                 0               5                 2        7  ...   22   \n",
      "KSU                  0              12                 3       18  ...   14   \n",
      "KU                   0               0                 0        0  ...    0   \n",
      "OSU                  0               2                 6        4  ...   15   \n",
      "TCU                  0              17                15        8  ...   22   \n",
      "TTU                  0              22                18       19  ...   26   \n",
      "UCF                  0              14                 0        8  ...   16   \n",
      "UH                   1              14                12        5  ...   12   \n",
      "WV                   0               0                18       12  ...   17   \n",
      "\n",
      "                                           2022                             \\\n",
      "Offense Stalking Statutory Rape Dating Violence Domestic Violence Fondling   \n",
      "School                                                                       \n",
      "BU            23              0               0                13        8   \n",
      "BYU            6              0              17                 1       17   \n",
      "CU            15              0              13                12       19   \n",
      "Iowa          32              0               6                 6        6   \n",
      "KSU           18              0               5                 7        6   \n",
      "KU             0              0               0                 0        1   \n",
      "OSU           12              0               7                 3        0   \n",
      "TCU            4              0               5                 1        4   \n",
      "TTU           65              0              14                21        8   \n",
      "UCF           24              0              13                 2        8   \n",
      "UH            29              0              18                10        1   \n",
      "WV            14              0               0                21       17   \n",
      "\n",
      "                                             \n",
      "Offense Incest Rape Stalking Statutory Rape  \n",
      "School                                       \n",
      "BU           0   22       40              0  \n",
      "BYU          0    6       16              0  \n",
      "CU           0   52       16              0  \n",
      "Iowa         0   18       21              0  \n",
      "KSU          0   26        8              0  \n",
      "KU           0    0        1              0  \n",
      "OSU          0   12       16              0  \n",
      "TCU          0   12        5              0  \n",
      "TTU          0   23       44              0  \n",
      "UCF          0   14       34              1  \n",
      "UH           0   13       18              0  \n",
      "WV           0   21       22              0  \n",
      "\n",
      "[12 rows x 21 columns]\n"
     ]
    }
   ],
   "source": [
    "print(SA_DV)"
   ]
  }
 ],
 "metadata": {
  "kernelspec": {
   "display_name": "stat386",
   "language": "python",
   "name": "python3"
  },
  "language_info": {
   "codemirror_mode": {
    "name": "ipython",
    "version": 3
   },
   "file_extension": ".py",
   "mimetype": "text/x-python",
   "name": "python",
   "nbconvert_exporter": "python",
   "pygments_lexer": "ipython3",
   "version": "3.10.12"
  }
 },
 "nbformat": 4,
 "nbformat_minor": 2
}
