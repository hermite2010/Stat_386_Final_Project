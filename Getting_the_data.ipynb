{
 "cells": [
  {
   "cell_type": "markdown",
   "metadata": {},
   "source": [
    "Here are the Websites I am thinking of using:\n",
    "\n",
    "https://cde.ucr.cjis.gov/LATEST/webapp/#/pages/docApi\n",
    "\n",
    "https://ucr.fbi.gov/crime-in-the-u.s/2019/crime-in-the-u.s.-2019/topic-pages/tables/table-5\n",
    "\n",
    "https://www.icpsr.umich.edu/web/NACJD/studies/38604/summary\n",
    "\n",
    "https://bjs.ojp.gov/library/publications/criminal-victimization-2022\n",
    "\n",
    "https://endrapeoncampus.org/map-and-tool/\n",
    "\n",
    "https://ope.ed.gov/campussafety/#/compare/confirm\n",
    "\n",
    "https://www.prri.org/research/2020-census-of-american-religion/\n",
    "\n",
    "https://www.statista.com/statistics/221454/share-of-religious-americans-by-state/\n",
    "\n",
    "BIG 12 (for 2024 group) FIRE & SAFETY REPORTS:\n",
    "\n",
    "BYU https://police.byu.edu/2023-asr-provo  (page 9)\n",
    "\n",
    "Baylor https://www.baylor.edu/risk/doc.php/399779.pdf (page 12)\n",
    "\n",
    "UCF https://police.ucf.edu/sites/default/files/2023%20Annual%20Security%20%26%20Fire%20Safety%20Report.pdf (page 78)\n",
    "\n",
    "Cinncinati https://www.uc.edu/content/dam/refresh/publicsafety-62/docs/ucpd/2023-annual-security-report.pdf (page 34)\n",
    "\n",
    "Houston http://m2s-conf.uh.edu/police/records-reports/annualreport/2023-uh-annual-security-and-fire-safety-report.pdf (page 39)\n",
    "\n",
    "Iowa https://www.police.iastate.edu/wp-content/uploads/2023/09/2022-Report-Final.pdf (page 6)\n",
    "\n",
    "KU https://civilrights.ku.edu/sites/civilrights/files/documents/Reports/University%20of%20Kansas%20Annual%20Security%20and%20Fire%20Safety%20Report-2023-KLETC.pdf (page 60)\n",
    "\n",
    "K-state https://www.k-state.edu/report/clery/reports/KSUCleryReport2023.pdf (page 13)\n",
    "\n",
    "OSU https://safety.okstate.edu/police/documents/annual-security-reports/2023-annual-safety-report.pdf (page 37)\n",
    "\n",
    "TCU https://police.tcu.edu/wp-content/uploads/2023/09/TCU-Annual-Security-Report-Fire-Safety-Report_2023.v1.pdf (page 80)\n",
    "\n",
    "Texas Tech https://www.depts.ttu.edu/clery/reports/2023LubbockASRfinal.pdf (page 107)\n",
    "\n",
    "West Virginia https://police.wvu.edu/files/d/a1a0a6fe-444e-4353-8e92-7dcbeb00cd27/2023-annual-security-and-fire-safety-report-with-appendix.pdf (page 36)"
   ]
  },
  {
   "cell_type": "code",
   "execution_count": null,
   "metadata": {},
   "outputs": [],
   "source": []
  }
 ],
 "metadata": {
  "kernelspec": {
   "display_name": "stat386",
   "language": "python",
   "name": "python3"
  },
  "language_info": {
   "name": "python",
   "version": "3.10.12"
  }
 },
 "nbformat": 4,
 "nbformat_minor": 2
}
